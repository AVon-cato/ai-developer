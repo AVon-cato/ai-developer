{
 "cells": [
  {
   "cell_type": "markdown",
   "metadata": {},
   "source": [
    "# Accessing an AutoAI Model\n",
    "In this notebook, we use the Watson Machine Learning (WML) API to find the available models available, and find the availablr deployments.\n",
    "\n",
    "We then score some records using a Churn model.\n",
    "\n",
    "Finally, we show how a deployment could be removed.\n",
    "\n",
    "See:<br/>https://wml-api-pyclient-dev-v4.mybluemix.net/<br/>\n",
    "https://watson-ml-v4-api.mybluemix.net/<br/>\n",
    "https://wml-api-pyclient.mybluemix.net/"
   ]
  },
  {
   "cell_type": "code",
   "execution_count": null,
   "metadata": {},
   "outputs": [],
   "source": [
    "# Install the Watson Machine Learning API client\n",
    "!pip install watson-machine-learning-client-v4 > wmlclientpip.out"
   ]
  },
  {
   "cell_type": "code",
   "execution_count": null,
   "metadata": {},
   "outputs": [],
   "source": [
    "wml_credentials = {\n",
    "  \"apikey\": \"\",\n",
    "  \"instance_id\": \"\",\n",
    "  \"url\": \"\"\n",
    "}"
   ]
  },
  {
   "cell_type": "code",
   "execution_count": null,
   "metadata": {},
   "outputs": [],
   "source": [
    "from watson_machine_learning_client import WatsonMachineLearningAPIClient\n",
    "\n",
    "client = WatsonMachineLearningAPIClient(wml_credentials)"
   ]
  },
  {
   "cell_type": "code",
   "execution_count": null,
   "metadata": {},
   "outputs": [],
   "source": [
    "# List models already in the repository\n",
    "client.repository.list_models()"
   ]
  },
  {
   "cell_type": "markdown",
   "metadata": {},
   "source": [
    "## Accessing the deployed model\n",
    "We extract the information on deployed models and find the deployment for **`AutoAI Churn Deployed`**."
   ]
  },
  {
   "cell_type": "code",
   "execution_count": null,
   "metadata": {},
   "outputs": [],
   "source": [
    "# List the deployed models\n",
    "client.deployments.list()"
   ]
  },
  {
   "cell_type": "code",
   "execution_count": null,
   "metadata": {},
   "outputs": [],
   "source": [
    "# Extract the information for \"Churn model deployment\" \n",
    "deployments_details = client.deployments.get_details()\n",
    "deployed_uid = next(item for item in deployments_details['resources'] \n",
    "                    if item['entity'][\"name\"] == \"AutoAI Churn Deployed\")['metadata']['guid']"
   ]
  },
  {
   "cell_type": "markdown",
   "metadata": {},
   "source": [
    "### Score a record"
   ]
  },
  {
   "cell_type": "code",
   "execution_count": null,
   "metadata": {},
   "outputs": [],
   "source": [
    "# Execute the model\n",
    "scoring_payload = { client.deployments.ScoringMetaNames.INPUT_DATA: \n",
    "                   [{\n",
    "                     'fields': ['ID','Gender','Status','Children','Est Income','Car Owner',\n",
    "                                'Age','LongDistance','International','Local','Dropped',\n",
    "                                'Paymethod','LocalBilltype','LongDistanceBilltype',\n",
    "                                'Usage','RatePlan'], \n",
    "                     'values': [[1,'F','S',1.0,38000.0,'N',24.393333,23.56,0.0,206.08,0.0,'CC','Budget','Intnl_discount',229.64,3.0],                      \n",
    "                                [6,'M','M',2.0,29616.0,'N',49.426667,29.78,0.0,45.5,0.0,  'CH','FreeLocal','Standard',75.29,2.0]\n",
    "                               ]\n",
    "                    }]\n",
    "                  }\n",
    "predictions = client.deployments.score(deployed_uid, scoring_payload)\n"
   ]
  },
  {
   "cell_type": "code",
   "execution_count": null,
   "metadata": {},
   "outputs": [],
   "source": [
    "predictions"
   ]
  },
  {
   "cell_type": "code",
   "execution_count": null,
   "metadata": {},
   "outputs": [],
   "source": [
    "for prediction in predictions['predictions'] :\n",
    "    for result in prediction['values'] :\n",
    "        print('Prediction: ' + str(result[0]) + \", probability: [\" + \n",
    "              str(result[1][0]) + ', ' +  str(result[1][1]) + \"]\" )\n"
   ]
  },
  {
   "cell_type": "markdown",
   "metadata": {},
   "source": [
    "## Removing a deployed model\n",
    "We can remove a model from the repository using the remove method.\n",
    "In the example below, we remove the deployed model we just used since we already have the uid.\n",
    "We could look over like we did before and remove all the deployed models.\n",
    "\n",
    "A similar delete operation can be used to remove the saved models."
   ]
  },
  {
   "cell_type": "code",
   "execution_count": null,
   "metadata": {},
   "outputs": [],
   "source": [
    "# Display the list first\n",
    "client.deployments.list()"
   ]
  },
  {
   "cell_type": "code",
   "execution_count": null,
   "metadata": {},
   "outputs": [],
   "source": [
    "# Remove the deployment\n",
    "client.deployments.delete(deployed_uid)"
   ]
  },
  {
   "cell_type": "code",
   "execution_count": null,
   "metadata": {},
   "outputs": [],
   "source": [
    "client.deployments.list()"
   ]
  },
  {
   "cell_type": "code",
   "execution_count": null,
   "metadata": {},
   "outputs": [],
   "source": []
  }
 ],
 "metadata": {
  "kernelspec": {
   "display_name": "Python 3.6",
   "language": "python",
   "name": "python3"
  },
  "language_info": {
   "codemirror_mode": {
    "name": "ipython",
    "version": 3
   },
   "file_extension": ".py",
   "mimetype": "text/x-python",
   "name": "python",
   "nbconvert_exporter": "python",
   "pygments_lexer": "ipython3",
   "version": "3.6.9"
  }
 },
 "nbformat": 4,
 "nbformat_minor": 1
}
